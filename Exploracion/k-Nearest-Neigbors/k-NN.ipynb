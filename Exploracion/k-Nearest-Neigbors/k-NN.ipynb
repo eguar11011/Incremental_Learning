{
 "cells": [
  {
   "cell_type": "markdown",
   "metadata": {},
   "source": [
    "# ¿Que es esto?\n",
    "\n",
    "Una exploracion de k- nearest neighbor.\\\n",
    "Con el objetivo de pensar como esto se puede interpretar en el incremental learning."
   ]
  },
  {
   "cell_type": "markdown",
   "metadata": {},
   "source": [
    "Vamos a realizar la implementación paso a paso de k-NN.\n",
    "\n",
    "- Paso 1 : Calcular la distancia euclidiana.\n",
    "- Paso 2 : Consigue los vecinos más cercanos.\n",
    "- Paso 3 : Haz predicciones"
   ]
  },
  {
   "cell_type": "markdown",
   "metadata": {},
   "source": [
    "### Distancia eclidiana\n",
    "\n",
    "Entre menor sea la distancia entre dos valores, mas similares son.\n",
    "\n",
    "$d(p,q) = \\sqrt{\\sum_i (p_i – q_i)^2}$\n",
    "\n",
    "- p es una fila de datos.\n",
    "- q es otra fila distinta de datos.\n"
   ]
  },
  {
   "cell_type": "code",
   "execution_count": 6,
   "metadata": {},
   "outputs": [],
   "source": [
    "import math\n",
    "# calculate the Euclidean distance between two vectors\n",
    "def euclidean_distance(row1, row2):\n",
    "\tdistance = 0.0\n",
    "\tfor i in range(len(row1)-1):\n",
    "\t\tdistance += (row1[i] - row2[i])**2\n",
    "\treturn math.sqrt(distance)"
   ]
  },
  {
   "cell_type": "markdown",
   "metadata": {},
   "source": [
    "### Datos sinteticos"
   ]
  },
  {
   "cell_type": "code",
   "execution_count": 7,
   "metadata": {},
   "outputs": [
    {
     "data": {
      "text/html": [
       "<div>\n",
       "<style scoped>\n",
       "    .dataframe tbody tr th:only-of-type {\n",
       "        vertical-align: middle;\n",
       "    }\n",
       "\n",
       "    .dataframe tbody tr th {\n",
       "        vertical-align: top;\n",
       "    }\n",
       "\n",
       "    .dataframe thead th {\n",
       "        text-align: right;\n",
       "    }\n",
       "</style>\n",
       "<table border=\"1\" class=\"dataframe\">\n",
       "  <thead>\n",
       "    <tr style=\"text-align: right;\">\n",
       "      <th></th>\n",
       "      <th>X1</th>\n",
       "      <th>X2</th>\n",
       "      <th>Y</th>\n",
       "    </tr>\n",
       "  </thead>\n",
       "  <tbody>\n",
       "    <tr>\n",
       "      <th>0</th>\n",
       "      <td>2.781084</td>\n",
       "      <td>2.550537</td>\n",
       "      <td>0</td>\n",
       "    </tr>\n",
       "    <tr>\n",
       "      <th>1</th>\n",
       "      <td>1.465489</td>\n",
       "      <td>2.362125</td>\n",
       "      <td>0</td>\n",
       "    </tr>\n",
       "    <tr>\n",
       "      <th>2</th>\n",
       "      <td>3.396562</td>\n",
       "      <td>4.400294</td>\n",
       "      <td>0</td>\n",
       "    </tr>\n",
       "    <tr>\n",
       "      <th>3</th>\n",
       "      <td>1.388070</td>\n",
       "      <td>1.850220</td>\n",
       "      <td>0</td>\n",
       "    </tr>\n",
       "    <tr>\n",
       "      <th>4</th>\n",
       "      <td>3.064072</td>\n",
       "      <td>3.005306</td>\n",
       "      <td>0</td>\n",
       "    </tr>\n",
       "    <tr>\n",
       "      <th>5</th>\n",
       "      <td>7.627531</td>\n",
       "      <td>2.759262</td>\n",
       "      <td>1</td>\n",
       "    </tr>\n",
       "    <tr>\n",
       "      <th>6</th>\n",
       "      <td>5.332441</td>\n",
       "      <td>2.088627</td>\n",
       "      <td>1</td>\n",
       "    </tr>\n",
       "    <tr>\n",
       "      <th>7</th>\n",
       "      <td>6.922597</td>\n",
       "      <td>1.771064</td>\n",
       "      <td>1</td>\n",
       "    </tr>\n",
       "    <tr>\n",
       "      <th>8</th>\n",
       "      <td>8.675419</td>\n",
       "      <td>-0.242069</td>\n",
       "      <td>1</td>\n",
       "    </tr>\n",
       "    <tr>\n",
       "      <th>9</th>\n",
       "      <td>7.673756</td>\n",
       "      <td>3.508563</td>\n",
       "      <td>1</td>\n",
       "    </tr>\n",
       "  </tbody>\n",
       "</table>\n",
       "</div>"
      ],
      "text/plain": [
       "         X1        X2  Y\n",
       "0  2.781084  2.550537  0\n",
       "1  1.465489  2.362125  0\n",
       "2  3.396562  4.400294  0\n",
       "3  1.388070  1.850220  0\n",
       "4  3.064072  3.005306  0\n",
       "5  7.627531  2.759262  1\n",
       "6  5.332441  2.088627  1\n",
       "7  6.922597  1.771064  1\n",
       "8  8.675419 -0.242069  1\n",
       "9  7.673756  3.508563  1"
      ]
     },
     "execution_count": 7,
     "metadata": {},
     "output_type": "execute_result"
    }
   ],
   "source": [
    "import pandas as pd\n",
    "# Lee el archivo de texto en un DataFrame de Pandas\n",
    "df = pd.read_csv('data.txt', delim_whitespace=True)\n",
    "df"
   ]
  },
  {
   "cell_type": "markdown",
   "metadata": {},
   "source": [
    "Ejemplo de calcular las distancias.\n",
    "\n",
    "Fijamos una fila y calculamos la distancia euclidiana con todas las filas del dataset."
   ]
  },
  {
   "cell_type": "code",
   "execution_count": 8,
   "metadata": {},
   "outputs": [
    {
     "name": "stdout",
     "output_type": "stream",
     "text": [
      "0.0\n",
      "1.3290173915275787\n",
      "1.9494646655653247\n",
      "1.5591439385540549\n",
      "0.5356280721938492\n",
      "4.850940186986411\n",
      "2.592833759950511\n",
      "4.214227042632867\n",
      "6.522409988228337\n",
      "4.985585382449795\n"
     ]
    }
   ],
   "source": [
    "dataset = df.to_numpy()\n",
    "row0 = dataset[0]\n",
    "for row in dataset:\n",
    " distance = euclidean_distance(row0, row)\n",
    " print(distance)"
   ]
  },
  {
   "cell_type": "markdown",
   "metadata": {},
   "source": [
    "### Visualización de los datos"
   ]
  },
  {
   "cell_type": "code",
   "execution_count": null,
   "metadata": {},
   "outputs": [],
   "source": [
    "import pandas as pd\n",
    "import matplotlib.pyplot as plt\n",
    "\n",
    "# Leer el dataset en un DataFrame\n",
    "data = pd.read_csv('data.txt', delim_whitespace=True)\n",
    "\n",
    "# Separar los datos en dos clases\n",
    "clase_0 = data[data['Y'] == 0]\n",
    "clase_1 = data[data['Y'] == 1]\n",
    "\n",
    "# Crear un gráfico de dispersión para cada clase\n",
    "plt.scatter(clase_0['X1'], clase_0['X2'], color='blue', label='Clase 0', s=100, alpha=0.7)\n",
    "plt.scatter(clase_1['X1'], clase_1['X2'], color='yellow', label='Clase 1', s=100, alpha=0.7)\n",
    "\n",
    "# Agregar etiquetas y título\n",
    "plt.xlabel('X1')\n",
    "plt.ylabel('X2')\n",
    "plt.title('Scatter Plot de Datos')\n",
    "\n",
    "# Mostrar leyenda\n",
    "plt.legend()\n",
    "\n",
    "# Mostrar el gráfico\n",
    "plt.show()\n"
   ]
  },
  {
   "cell_type": "markdown",
   "metadata": {},
   "source": [
    "### Calculamos el vecino mas cercano"
   ]
  },
  {
   "cell_type": "code",
   "execution_count": 15,
   "metadata": {},
   "outputs": [],
   "source": [
    "def get_neighbors(train, test_row, num_neighbors):\n",
    "    \"\"\"\n",
    "    Find the 'num_neighbors' most similar neighbors of a 'test_row' within the 'train' dataset.\n",
    "\n",
    "    Parameters:\n",
    "    train: list\n",
    "        The training dataset containing multiple rows.\n",
    "\n",
    "    test_row: list\n",
    "        The specific row for which the nearest neighbors are to be found.\n",
    "\n",
    "    num_neighbors: int\n",
    "        The number of nearest neighbors to be located.\n",
    "\n",
    "    Returns:\n",
    "    list\n",
    "        List of 'num_neighbors' closest neighboring rows from the 'train' dataset.\n",
    "    \"\"\"\n",
    "\n",
    "    # Calculate the distance between 'test_row' and each row in the 'train' dataset\n",
    "    distances = [(train_row,euclidean_distance(test_row, train_row)) for train_row in train]\n",
    "\n",
    "    # Sort the distances in ascending order\n",
    "    distances.sort(key=lambda tup: tup[1])\n",
    "\n",
    "    # Retrieve the 'num_neighbors' closest neighbors\n",
    "    neighbors = [distances[i][0] for i in range(num_neighbors)]\n",
    "\n",
    "\n",
    "    return neighbors\n"
   ]
  },
  {
   "cell_type": "code",
   "execution_count": 14,
   "metadata": {},
   "outputs": [
    {
     "name": "stdout",
     "output_type": "stream",
     "text": [
      "Most similar vectors: [2.7810836 2.550537  0.       ]\n",
      "Most similar vectors: [3.06407232 3.00530597 0.        ]\n",
      "Most similar vectors: [1.46548937 2.36212508 0.        ]\n"
     ]
    }
   ],
   "source": [
    "neighbors = get_neighbors(dataset, dataset[0], 3)\n",
    "for neighbor in neighbors:\n",
    " print(f\"Most similar vectors: {neighbor}\")"
   ]
  },
  {
   "cell_type": "markdown",
   "metadata": {},
   "source": [
    "### Predicciones"
   ]
  },
  {
   "cell_type": "code",
   "execution_count": 31,
   "metadata": {},
   "outputs": [],
   "source": [
    "from pprint import pprint\n",
    "\n",
    "def predict_classification(train, test_row, num_neighbors):\n",
    "    \"\"\"\n",
    "    Make a classification prediction for a 'test_row' based on its nearest neighbors in the 'train' dataset.\n",
    "\n",
    "    Parameters:\n",
    "    train: list\n",
    "        The training dataset containing multiple rows.\n",
    "\n",
    "    test_row: list\n",
    "        The specific row for which the classification prediction needs to be made.\n",
    "\n",
    "    num_neighbors: int\n",
    "        The number of nearest neighbors to consider for prediction.\n",
    "\n",
    "    Returns:\n",
    "    int\n",
    "        The predicted classification for the 'test_row'.\n",
    "    \"\"\"\n",
    "\n",
    "    # Obtain the 'num_neighbors' nearest neighbors using 'get_neighbors' function\n",
    "    neighbors = get_neighbors(train, test_row, num_neighbors)\n",
    "    pprint(f\"Vecinos mas cercanos:  {neighbors}\")\n",
    "\n",
    "    # Extract the output values (the last column) from the neighbors\n",
    "    output_values = [row[-1] for row in neighbors]\n",
    "    print(f\"Clases de los vecinos mas cercanos {output_values}\")\n",
    "    # Make a prediction based on the most common output value among the neighbors\n",
    "    prediction = max(set(output_values), key=output_values.count)\n",
    "\n",
    "    return prediction\n"
   ]
  },
  {
   "cell_type": "code",
   "execution_count": 37,
   "metadata": {},
   "outputs": [
    {
     "name": "stdout",
     "output_type": "stream",
     "text": [
      "('Vecinos mas cercanos:  [array([3.06407232, 3.00530597, 0.        ]), '\n",
      " 'array([2.7810836, 2.550537 , 0.       ]), array([3.39656169, 4.40029353, '\n",
      " '0.        ]), array([1.46548937, 2.36212508, 0.        ]), '\n",
      " 'array([1.38807019, 1.85022032, 0.        ]), array([5.33244125, 2.08862677, '\n",
      " '1.        ]), array([6.92259672, 1.77106367, 1.        ])]')\n",
      "Clases de los vecinos mas cercanos [0.0, 0.0, 0.0, 0.0, 0.0, 1.0, 1.0]\n",
      "Expected 0, Got 0.\n"
     ]
    }
   ],
   "source": [
    "row: int = 4\n",
    "prediction = predict_classification(dataset, dataset[row], 7)\n",
    "print('Expected %d, Got %d.' % (dataset[row][-1], prediction))"
   ]
  },
  {
   "cell_type": "code",
   "execution_count": 16,
   "metadata": {},
   "outputs": [
    {
     "data": {
      "text/html": [
       "<div>\n",
       "<style scoped>\n",
       "    .dataframe tbody tr th:only-of-type {\n",
       "        vertical-align: middle;\n",
       "    }\n",
       "\n",
       "    .dataframe tbody tr th {\n",
       "        vertical-align: top;\n",
       "    }\n",
       "\n",
       "    .dataframe thead th {\n",
       "        text-align: right;\n",
       "    }\n",
       "</style>\n",
       "<table border=\"1\" class=\"dataframe\">\n",
       "  <thead>\n",
       "    <tr style=\"text-align: right;\">\n",
       "      <th></th>\n",
       "      <th>X1</th>\n",
       "      <th>X2</th>\n",
       "      <th>Y</th>\n",
       "    </tr>\n",
       "  </thead>\n",
       "  <tbody>\n",
       "    <tr>\n",
       "      <th>0</th>\n",
       "      <td>2.781084</td>\n",
       "      <td>2.550537</td>\n",
       "      <td>0</td>\n",
       "    </tr>\n",
       "    <tr>\n",
       "      <th>1</th>\n",
       "      <td>1.465489</td>\n",
       "      <td>2.362125</td>\n",
       "      <td>0</td>\n",
       "    </tr>\n",
       "    <tr>\n",
       "      <th>2</th>\n",
       "      <td>3.396562</td>\n",
       "      <td>4.400294</td>\n",
       "      <td>0</td>\n",
       "    </tr>\n",
       "    <tr>\n",
       "      <th>3</th>\n",
       "      <td>1.388070</td>\n",
       "      <td>1.850220</td>\n",
       "      <td>0</td>\n",
       "    </tr>\n",
       "    <tr>\n",
       "      <th>4</th>\n",
       "      <td>3.064072</td>\n",
       "      <td>3.005306</td>\n",
       "      <td>0</td>\n",
       "    </tr>\n",
       "    <tr>\n",
       "      <th>5</th>\n",
       "      <td>7.627531</td>\n",
       "      <td>2.759262</td>\n",
       "      <td>1</td>\n",
       "    </tr>\n",
       "    <tr>\n",
       "      <th>6</th>\n",
       "      <td>5.332441</td>\n",
       "      <td>2.088627</td>\n",
       "      <td>1</td>\n",
       "    </tr>\n",
       "    <tr>\n",
       "      <th>7</th>\n",
       "      <td>6.922597</td>\n",
       "      <td>1.771064</td>\n",
       "      <td>1</td>\n",
       "    </tr>\n",
       "    <tr>\n",
       "      <th>8</th>\n",
       "      <td>8.675419</td>\n",
       "      <td>-0.242069</td>\n",
       "      <td>1</td>\n",
       "    </tr>\n",
       "    <tr>\n",
       "      <th>9</th>\n",
       "      <td>7.673756</td>\n",
       "      <td>3.508563</td>\n",
       "      <td>1</td>\n",
       "    </tr>\n",
       "  </tbody>\n",
       "</table>\n",
       "</div>"
      ],
      "text/plain": [
       "         X1        X2  Y\n",
       "0  2.781084  2.550537  0\n",
       "1  1.465489  2.362125  0\n",
       "2  3.396562  4.400294  0\n",
       "3  1.388070  1.850220  0\n",
       "4  3.064072  3.005306  0\n",
       "5  7.627531  2.759262  1\n",
       "6  5.332441  2.088627  1\n",
       "7  6.922597  1.771064  1\n",
       "8  8.675419 -0.242069  1\n",
       "9  7.673756  3.508563  1"
      ]
     },
     "execution_count": 16,
     "metadata": {},
     "output_type": "execute_result"
    }
   ],
   "source": [
    "df"
   ]
  },
  {
   "cell_type": "markdown",
   "metadata": {},
   "source": [
    "## Conclusiones\n",
    "\n",
    "Con el pequeño experimento visualizamos lo que hacen estos metodos, que basicamente solo miran la similitud y segun la cantidad de vecinos que tomemos sabremos a que clase pertenece nuestro nuevo dato.\n",
    "\n",
    "Para estos metodos regular mente se usan toda la cantidad de datos el cual al incrementar clases y datos, se tendrá problemas de memoria.\n",
    "\n",
    "Investigando un poco, los problemas de memoria los resuelven utilizando prototipos, estos prototipos se refieren a tomar unos datos particulares de cada clase, para realizar un algoritmo del vecino mas cercano eficiente mente pero con una menor cantidad de datos.\n",
    "\n",
    "Se habla un poco mas sobre los prototipos aqui en: [The Elements of Statistical Learning](https://link.springer.com/book/10.1007/978-0-387-84858-7)"
   ]
  }
 ],
 "metadata": {
  "kernelspec": {
   "display_name": "qkm",
   "language": "python",
   "name": "python3"
  },
  "language_info": {
   "codemirror_mode": {
    "name": "ipython",
    "version": 3
   },
   "file_extension": ".py",
   "mimetype": "text/x-python",
   "name": "python",
   "nbconvert_exporter": "python",
   "pygments_lexer": "ipython3",
   "version": "3.11.4"
  },
  "orig_nbformat": 4
 },
 "nbformat": 4,
 "nbformat_minor": 2
}
